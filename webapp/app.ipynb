{
 "cells": [
  {
   "cell_type": "code",
   "execution_count": null,
   "metadata": {
    "id": "meF3wz1JDyr7"
   },
   "outputs": [
    {
     "name": "stdout",
     "output_type": "stream",
     "text": [
      "Requirement already satisfied: flask in e:\\anaconda\\lib\\site-packages (1.1.1)\n",
      "Requirement already satisfied: itsdangerous>=0.24 in e:\\anaconda\\lib\\site-packages (from flask) (1.1.0)\n",
      "Requirement already satisfied: Jinja2>=2.10.1 in e:\\anaconda\\lib\\site-packages (from flask) (2.10.3)\n",
      "Requirement already satisfied: Werkzeug>=0.15 in e:\\anaconda\\lib\\site-packages (from flask) (0.16.0)\n",
      "Requirement already satisfied: click>=5.1 in e:\\anaconda\\lib\\site-packages (from flask) (7.0)\n",
      "Requirement already satisfied: MarkupSafe>=0.23 in e:\\anaconda\\lib\\site-packages (from Jinja2>=2.10.1->flask) (1.1.1)\n"
     ]
    }
   ],
   "source": [
    "!pip install flask\n",
    "!pip install -q spacy "
   ]
  },
  {
   "cell_type": "code",
   "execution_count": null,
   "metadata": {
    "id": "bUh-XOduEKBd"
   },
   "outputs": [],
   "source": [
    "from flask import Flask, render_template, request\n",
    "import spacy\n",
    "from tensorflow.keras.models import Sequential, save_model, load_model"
   ]
  },
  {
   "cell_type": "code",
   "execution_count": null,
   "metadata": {},
   "outputs": [],
   "source": [
    "class Preprossesing:   #Preprocessing class responsbile to preprocess the input data.\n",
    "    def __init__(self,  randonmState = 42):\n",
    "        self._random = randonmState\n",
    "        self.nlp = spacy.load('en')\n",
    "    \n",
    "    def spacy_tokenization(self, text):\n",
    "        return \" \".join([y.text for y in self.nlp(text)])\n",
    "    \n",
    "    def cleanup(self, text):\n",
    "        return text.translate(str.maketrans('', '', string.punctuation)) \n",
    "    \n",
    "    def stopwords(self, text):\n",
    "        return ' '.join([word for word in text.split() if word not in stopwords])\n",
    "    \n",
    "    def stripcharecters(self, text):\n",
    "        return  re.sub(r'[^A-Za-z]+', ' ', text)\n",
    "    \n",
    "    def normalize(self, text):\n",
    "        return normalise(word_tokenize(text),'' , verbose=False)\n",
    "    \n",
    "    def removeStringsLtTwo(self, text):\n",
    "        return re.sub(r'\\b(\\w{1,2})\\b', '', text)\n",
    "    \n",
    "    def lemmatize_text(self, text):\n",
    "        return \" \".join([y.lemma_ for y in en_core(text)])\n",
    "    \n",
    "    def strip_duplicates(self, text):\n",
    "        return ' '.join(sorted(set(text.split()), key=text.index))\n",
    "    \n",
    "    def transform(self, text):\n",
    "        text = self.cleanup(text)\n",
    "        text = self.stopwords(text)\n",
    "        text = self.stripcharecters(text)\n",
    "        text = self.removeStringsLtTwo(text)\n",
    "#       text = self.strip_duplicates(text)\n",
    "        text = self.lemmatize_text(text)\n",
    "        text = self.spacy_tokenization(text)\n",
    "        return text"
   ]
  },
  {
   "cell_type": "code",
   "execution_count": null,
   "metadata": {
    "id": "7ZAtdMgQEcp0"
   },
   "outputs": [],
   "source": [
    "app = Flask('Automatic Ticket Assignment')\n",
    "model = load_model(\"my_model.joblib\")"
   ]
  },
  {
   "cell_type": "code",
   "execution_count": null,
   "metadata": {
    "id": "x0xvbaSVEjFp"
   },
   "outputs": [],
   "source": [
    "@app.route('/')\n",
    "def home():\n",
    "    return render_template('index.html')\n",
    "\n",
    "@app.route('/predict', methods=['POST'])\n",
    "def predict():\n",
    "    final_feature = ''\n",
    "    for x in request.form.values():\n",
    "        final_feature = final_feature + \" \"+ x\n",
    "     \n",
    "    preprocess= Preprossesing()\n",
    "    input_text = preprocess.transform(final_feature)\n",
    "    \n",
    "    prediction = model.predict(input_text)\n",
    "    return render_template('index.html', prediction_text='Ticket category should be  {}'.format(prediction))\n"
   ]
  },
  {
   "cell_type": "code",
   "execution_count": null,
   "metadata": {
    "id": "cf00IF48EjQI"
   },
   "outputs": [],
   "source": [
    "app.run(host=\"127.0.0.1\", port= \"8898\")"
   ]
  },
  {
   "cell_type": "code",
   "execution_count": null,
   "metadata": {
    "id": "Nrgr3-MjEjXp"
   },
   "outputs": [],
   "source": []
  }
 ],
 "metadata": {
  "colab": {
   "authorship_tag": "ABX9TyNQ1MYNGUqFBdEoVBhHDz0L",
   "collapsed_sections": [],
   "name": "AutomaticTicketWebApps.ipynb",
   "provenance": []
  },
  "kernelspec": {
   "display_name": "Python 3",
   "language": "python",
   "name": "python3"
  },
  "language_info": {
   "codemirror_mode": {
    "name": "ipython",
    "version": 3
   },
   "file_extension": ".py",
   "mimetype": "text/x-python",
   "name": "python",
   "nbconvert_exporter": "python",
   "pygments_lexer": "ipython3",
   "version": "3.7.4"
  }
 },
 "nbformat": 4,
 "nbformat_minor": 1
}
